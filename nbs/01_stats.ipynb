{
 "cells": [
  {
   "cell_type": "code",
   "execution_count": null,
   "metadata": {},
   "outputs": [],
   "source": [
    "# default_exp stats"
   ]
  },
  {
   "cell_type": "markdown",
   "metadata": {},
   "source": [
    "# Stats\n",
    "\n",
    "> This module provides some wrapping around [PyGitub](https://github.com/PyGithub/PyGithub) to grab some stats from GitHub for a particular organization"
   ]
  },
  {
   "cell_type": "code",
   "execution_count": null,
   "metadata": {},
   "outputs": [],
   "source": [
    "#hide\n",
    "from nbdev import show_doc"
   ]
  },
  {
   "cell_type": "code",
   "execution_count": null,
   "metadata": {},
   "outputs": [],
   "source": [
    "#export\n",
    "import github\n",
    "import pandas\n",
    "from typing import Union, List, Optional, Generator, Dict, Iterable\n",
    "import pathlib"
   ]
  },
  {
   "cell_type": "code",
   "execution_count": null,
   "metadata": {},
   "outputs": [],
   "source": [
    "#export\n",
    "from dotenv import load_dotenv\n",
    "from github import Github\n",
    "import pandas as pd\n",
    "import os\n",
    "from fastcore.all import *\n",
    "from pathlib import Path\n",
    "from functools import lru_cache\n",
    "from toolz import itertoolz"
   ]
  },
  {
   "cell_type": "markdown",
   "metadata": {},
   "source": [
    "### Authentication \n",
    "\n",
    "To access the GitHub api you need an access token. You can create one here: https://github.com/settings/tokens. \n",
    "\n",
    "The access token will require `repo` scope. When working with this module locally it's probably easiest to put this token in a `.env` file, and use `dot_env` to load it. See the [python-dotenv](https://github.com/theskumar/python-dotenv) for further documentation. Alternatively you may want to save the token in a GitHub Secret, especially if you are planning to use this code as part of a GitHub Action. "
   ]
  },
  {
   "cell_type": "code",
   "execution_count": null,
   "metadata": {},
   "outputs": [
    {
     "data": {
      "text/plain": [
       "True"
      ]
     },
     "execution_count": null,
     "metadata": {},
     "output_type": "execute_result"
    }
   ],
   "source": [
    "#hide\n",
    "load_dotenv()"
   ]
  },
  {
   "cell_type": "code",
   "execution_count": null,
   "metadata": {},
   "outputs": [],
   "source": [
    "#export\n",
    "def create_github_session(GH_TOKEN):\n",
    "    \"\"\"creates a session for GitHub\"\"\"\n",
    "    global g\n",
    "    g = Github(GH_TOKEN)\n",
    "    return g"
   ]
  },
  {
   "cell_type": "code",
   "execution_count": null,
   "metadata": {},
   "outputs": [],
   "source": [
    "GH_TOKEN = os.getenv(\"GH_TOKEN\")"
   ]
  },
  {
   "cell_type": "code",
   "execution_count": null,
   "metadata": {},
   "outputs": [
    {
     "data": {
      "text/plain": [
       "<github.MainClass.Github at 0x115cd1a00>"
      ]
     },
     "execution_count": null,
     "metadata": {},
     "output_type": "execute_result"
    }
   ],
   "source": [
    "create_github_session(GH_TOKEN)"
   ]
  },
  {
   "cell_type": "code",
   "execution_count": null,
   "metadata": {},
   "outputs": [],
   "source": [
    "#hide\n",
    "assert type(g) == github.MainClass.Github"
   ]
  },
  {
   "cell_type": "markdown",
   "metadata": {},
   "source": [
    "# OrgStats\n",
    "`OrgStats` is a class that contains functionality for getting statistics for a GitHub organization. \n"
   ]
  },
  {
   "cell_type": "code",
   "execution_count": null,
   "metadata": {},
   "outputs": [],
   "source": [
    "#export\n",
    "class OrgStats:\n",
    "    \"\"\"Class for collecting GitHub statistics for an Organization\"\"\"\n",
    "    def __init__(self, GH_TOKEN: str, org: str):\n",
    "        \"\"\"\n",
    "        Parameters\n",
    "        ----------\n",
    "        GH_TOKEN : str\n",
    "            `GH_TOKEN` is a GitHub access token with at least public repo scope.\n",
    "            See https://github.com/settings/tokens\n",
    "        org : str\n",
    "            a Github Organization\n",
    "        \"\"\"\n",
    "        self.__GH_TOKEN = GH_TOKEN\n",
    "        self.gh_session = create_github_session(self.__GH_TOKEN)\n",
    "        self.org = self._get_org(org)\n",
    "\n",
    "    def __str__(self):\n",
    "        return f\"OrgStats: {self.org.name} \"\n",
    "\n",
    "    def __repr__(self):\n",
    "        return self.__str__()\n",
    "\n",
    "    def _get_org(self, org:'str'):\n",
    "        return g.get_organization(org)"
   ]
  },
  {
   "cell_type": "code",
   "execution_count": null,
   "metadata": {},
   "outputs": [
    {
     "data": {
      "text/markdown": [
       "<h2 id=\"OrgStats\" class=\"doc_header\"><code>class</code> <code>OrgStats</code><a href=\"\" class=\"source_link\" style=\"float:right\">[source]</a></h2>\n",
       "\n",
       "> <code>OrgStats</code>(**`GH_TOKEN`**:`str`, **`org`**:`str`)\n",
       "\n",
       "Class for collecting GitHub statistics for an Organization"
      ],
      "text/plain": [
       "<IPython.core.display.Markdown object>"
      ]
     },
     "metadata": {},
     "output_type": "display_data"
    }
   ],
   "source": [
    "show_doc(OrgStats)"
   ]
  },
  {
   "cell_type": "code",
   "execution_count": null,
   "metadata": {},
   "outputs": [],
   "source": [
    "load_dotenv()\n",
    "GH_TOKEN = os.getenv(\"GH_TOKEN\")"
   ]
  },
  {
   "cell_type": "markdown",
   "metadata": {},
   "source": [
    "To use `org_stats` you need to pass in a token to authenticate the GitHub API, and the name of a GitHub organization. We use [ghorgstatstestorg](https://github.com/ghorgstatstestorg) for these examples."
   ]
  },
  {
   "cell_type": "code",
   "execution_count": null,
   "metadata": {},
   "outputs": [
    {
     "data": {
      "text/plain": [
       "OrgStats: ghorgstatstestorg "
      ]
     },
     "execution_count": null,
     "metadata": {},
     "output_type": "execute_result"
    }
   ],
   "source": [
    "test_org = OrgStats(GH_TOKEN, \"ghorgstatstestorg\")\n",
    "test_org"
   ]
  },
  {
   "cell_type": "code",
   "execution_count": null,
   "metadata": {},
   "outputs": [],
   "source": [
    "#export\n",
    "@patch_to(OrgStats)\n",
    "@lru_cache(maxsize=512)\n",
    "def get_repos(self, pub_status: Union[None, str] = None) -> List[github.Repository.Repository]:\n",
    "    \"\"\"\n",
    "    Returns repositories for organisaton\n",
    "    optional `pub_status` filter for `public` or `private` repositories\n",
    "    \"\"\"\n",
    "    org = self.org\n",
    "    all_repos = [repo for repo in org.get_repos()]\n",
    "    if pub_status:\n",
    "        if pub_status == 'private':\n",
    "            return list(filter(lambda x: x.private == True, all_repos))\n",
    "        elif pub_status == 'public':\n",
    "            return list(filter(lambda x: x.private == False, all_repos))\n",
    "    return all_repos"
   ]
  },
  {
   "cell_type": "code",
   "execution_count": null,
   "metadata": {},
   "outputs": [
    {
     "data": {
      "text/markdown": [
       "<h4 id=\"OrgStats.get_repos\" class=\"doc_header\"><code>OrgStats.get_repos</code><a href=\"__main__.py#L2\" class=\"source_link\" style=\"float:right\">[source]</a></h4>\n",
       "\n",
       "> <code>OrgStats.get_repos</code>(**`pub_status`**:`Union`\\[`NoneType`, `str`\\]=*`None`*)\n",
       "\n",
       "Returns repositories for organisaton\n",
       "optional `pub_status` filter for `public` or `private` repositories"
      ],
      "text/plain": [
       "<IPython.core.display.Markdown object>"
      ]
     },
     "metadata": {},
     "output_type": "display_data"
    }
   ],
   "source": [
    "show_doc(OrgStats.get_repos)"
   ]
  },
  {
   "cell_type": "markdown",
   "metadata": {},
   "source": [
    "`get_repos` returns all repositories associated with an organization. We can optionally filter by public status. "
   ]
  },
  {
   "cell_type": "code",
   "execution_count": null,
   "metadata": {},
   "outputs": [
    {
     "data": {
      "text/plain": [
       "[Repository(full_name=\"ghorgstatstestorg/repo1\"),\n",
       " Repository(full_name=\"ghorgstatstestorg/repo2\"),\n",
       " Repository(full_name=\"ghorgstatstestorg/private_repo_1\")]"
      ]
     },
     "execution_count": null,
     "metadata": {},
     "output_type": "execute_result"
    }
   ],
   "source": [
    "test_org.get_repos()"
   ]
  },
  {
   "cell_type": "markdown",
   "metadata": {},
   "source": [
    "This can also be access via `repos`, `public_repos` and `private_repos` `OrgStats` attributes"
   ]
  },
  {
   "cell_type": "code",
   "execution_count": null,
   "metadata": {},
   "outputs": [],
   "source": [
    "#export\n",
    "@patch_to(OrgStats, as_prop=True)\n",
    "@lru_cache(maxsize=128)\n",
    "def repos(self):\n",
    "    \"\"\"all repositories of `org`\"\"\"\n",
    "    return self.get_repos()"
   ]
  },
  {
   "cell_type": "code",
   "execution_count": null,
   "metadata": {},
   "outputs": [],
   "source": [
    "#hide\n",
    "test_org = OrgStats(GH_TOKEN, \"ghorgstatstestorg\")\n",
    "assert len(L(test_org.repos).map(type).unique()) == 1\n",
    "assert L(test_org.repos).map(type).unique()[0] == github.Repository.Repository"
   ]
  },
  {
   "cell_type": "code",
   "execution_count": null,
   "metadata": {},
   "outputs": [],
   "source": [
    "#export\n",
    "@patch_to(OrgStats, as_prop=True)\n",
    "def repo_count(self):\n",
    "    \"\"\"count of all repositories of `org`\"\"\"\n",
    "    return len(self.get_repos())"
   ]
  },
  {
   "cell_type": "code",
   "execution_count": null,
   "metadata": {},
   "outputs": [
    {
     "data": {
      "text/plain": [
       "True"
      ]
     },
     "execution_count": null,
     "metadata": {},
     "output_type": "execute_result"
    }
   ],
   "source": [
    "#hide\n",
    "type(test_org.repo_count) == int"
   ]
  },
  {
   "cell_type": "code",
   "execution_count": null,
   "metadata": {},
   "outputs": [],
   "source": [
    "#export\n",
    "@patch_to(OrgStats, as_prop=True)\n",
    "@lru_cache(maxsize=128)\n",
    "def public_repos(self):\n",
    "    \"\"\"public repositories of `org`\"\"\"\n",
    "    return self.get_repos('public')"
   ]
  },
  {
   "cell_type": "code",
   "execution_count": null,
   "metadata": {},
   "outputs": [],
   "source": [
    "test_org = OrgStats(GH_TOKEN, \"ghorgstatstestorg\")\n",
    "assert L(test_org.public_repos).map(lambda x: x.private).unique()[0] == False"
   ]
  },
  {
   "cell_type": "code",
   "execution_count": null,
   "metadata": {},
   "outputs": [],
   "source": [
    "#export\n",
    "@patch_to(OrgStats, as_prop=True)\n",
    "def public_repo_count(self):\n",
    "    \"\"\"count of public repositories of `org`\"\"\"\n",
    "    return len(self.get_repos('public'))"
   ]
  },
  {
   "cell_type": "code",
   "execution_count": null,
   "metadata": {},
   "outputs": [],
   "source": [
    "#export\n",
    "@patch_to(OrgStats, as_prop=True)\n",
    "@lru_cache(maxsize=128)\n",
    "def private_repos(self):\n",
    "    \"\"\"private repositories of `org`\"\"\"\n",
    "    return self.get_repos('private')"
   ]
  },
  {
   "cell_type": "code",
   "execution_count": null,
   "metadata": {},
   "outputs": [],
   "source": [
    "test_org = OrgStats(GH_TOKEN, \"ghorgstatstestorg\")\n",
    "assert L(test_org.private_repos).map(lambda x: x.private).unique()[0] == True"
   ]
  },
  {
   "cell_type": "code",
   "execution_count": null,
   "metadata": {},
   "outputs": [],
   "source": [
    "#export\n",
    "@patch_to(OrgStats, as_prop=True)\n",
    "def private_repo_count(self):\n",
    "    \"\"\"count of private repositories of `org`\"\"\"\n",
    "    return len(self.get_repos('private'))"
   ]
  },
  {
   "cell_type": "markdown",
   "metadata": {},
   "source": [
    "The repo attributues can be used to access repositories by type, for example accessing only public repos via `public_repos`"
   ]
  },
  {
   "cell_type": "code",
   "execution_count": null,
   "metadata": {},
   "outputs": [
    {
     "data": {
      "text/plain": [
       "[Repository(full_name=\"ghorgstatstestorg/repo1\"),\n",
       " Repository(full_name=\"ghorgstatstestorg/repo2\")]"
      ]
     },
     "execution_count": null,
     "metadata": {},
     "output_type": "execute_result"
    }
   ],
   "source": [
    "test_org.public_repos"
   ]
  },
  {
   "cell_type": "markdown",
   "metadata": {},
   "source": [
    "# Files \n",
    "These methods retrieve information about the files in the repositories.\n",
    "\n",
    "The files in a repository and the extension of those files can give some information about the kind of content repositories hold. For example if you promised a funder lots of tutorials you may expect more `.ipynb` files."
   ]
  },
  {
   "cell_type": "code",
   "execution_count": null,
   "metadata": {},
   "outputs": [],
   "source": [
    "#export\n",
    "@patch_to(OrgStats)\n",
    "def get_repo_files(self, repo: Union[str, github.Repository.Repository]) -> Generator[github.ContentFile.ContentFile, None, None]:\n",
    "    \"\"\"return files for `repo`\"\"\"\n",
    "    files = []\n",
    "    if type(repo) == str:\n",
    "        repo = self.org.get_repo(repo)\n",
    "    contents = repo.get_contents(\"\")\n",
    "    while contents:\n",
    "        file_content = contents.pop(0)\n",
    "        if file_content.type == \"dir\":\n",
    "            contents.extend(repo.get_contents(file_content.path))\n",
    "        else:\n",
    "            yield file_content"
   ]
  },
  {
   "cell_type": "code",
   "execution_count": null,
   "metadata": {},
   "outputs": [
    {
     "data": {
      "text/markdown": [
       "<h4 id=\"OrgStats.get_repo_files\" class=\"doc_header\"><code>OrgStats.get_repo_files</code><a href=\"__main__.py#L2\" class=\"source_link\" style=\"float:right\">[source]</a></h4>\n",
       "\n",
       "> <code>OrgStats.get_repo_files</code>(**`repo`**:`Union`\\[`str`, `Repository`\\])\n",
       "\n",
       "return files for `repo`"
      ],
      "text/plain": [
       "<IPython.core.display.Markdown object>"
      ]
     },
     "metadata": {},
     "output_type": "display_data"
    }
   ],
   "source": [
    "show_doc(OrgStats.get_repo_files)"
   ]
  },
  {
   "cell_type": "code",
   "execution_count": null,
   "metadata": {},
   "outputs": [],
   "source": [
    "#export\n",
    "@patch_to(OrgStats)\n",
    "@lru_cache(maxsize=512)\n",
    "def get_org_files(self, pub_status: Union[None, str]=None) -> Dict[str, List[github.ContentFile.ContentFile]]:\n",
    "    \"\"\"returns repo files for `org`\"\"\"\n",
    "    org_files = {}\n",
    "    if pub_status:\n",
    "        if pub_status == 'private':\n",
    "            for repo in self.private_repos:\n",
    "                org_files[repo.name] = list(self.get_repo_files(repo))\n",
    "        elif pub_status == 'public':\n",
    "            for repo in self.public_repos:\n",
    "                org_files[repo.name] = list(self.get_repo_files(repo))\n",
    "    else:\n",
    "        for repo in self.repos:\n",
    "            org_files[repo.name] = list(self.get_repo_files(repo))\n",
    "    return org_files"
   ]
  },
  {
   "cell_type": "code",
   "execution_count": null,
   "metadata": {},
   "outputs": [
    {
     "data": {
      "text/markdown": [
       "<h4 id=\"OrgStats.get_org_files\" class=\"doc_header\"><code>OrgStats.get_org_files</code><a href=\"__main__.py#L2\" class=\"source_link\" style=\"float:right\">[source]</a></h4>\n",
       "\n",
       "> <code>OrgStats.get_org_files</code>(**`pub_status`**:`Union`\\[`NoneType`, `str`\\]=*`None`*)\n",
       "\n",
       "returns repo files for `org`"
      ],
      "text/plain": [
       "<IPython.core.display.Markdown object>"
      ]
     },
     "metadata": {},
     "output_type": "display_data"
    }
   ],
   "source": [
    "show_doc(OrgStats.get_org_files)"
   ]
  },
  {
   "cell_type": "markdown",
   "metadata": {},
   "source": [
    "Files can also be access via the `files`, `files_public` and `files_private` attributes. "
   ]
  },
  {
   "cell_type": "code",
   "execution_count": null,
   "metadata": {},
   "outputs": [],
   "source": [
    "#export\n",
    "@patch_to(OrgStats, as_prop=True)\n",
    "@lru_cache(maxsize=256)\n",
    "def files(self):\n",
    "    \"\"\"files for all repos\"\"\"\n",
    "    return self.get_org_files(pub_status='private')"
   ]
  },
  {
   "cell_type": "code",
   "execution_count": null,
   "metadata": {},
   "outputs": [
    {
     "data": {
      "text/markdown": [
       "<h4 id=\"OrgStats.files\" class=\"doc_header\"><code>OrgStats.files</code><a href=\"\" class=\"source_link\" style=\"float:right\">[source]</a></h4>\n",
       "\n",
       "files for all repos"
      ],
      "text/plain": [
       "<IPython.core.display.Markdown object>"
      ]
     },
     "metadata": {},
     "output_type": "display_data"
    }
   ],
   "source": [
    "show_doc(OrgStats.files)"
   ]
  },
  {
   "cell_type": "code",
   "execution_count": null,
   "metadata": {},
   "outputs": [],
   "source": [
    "#export\n",
    "@patch_to(OrgStats, as_prop=True)\n",
    "@lru_cache()\n",
    "def files_public(self):\n",
    "    \"\"\"files for public repos\"\"\"\n",
    "    return self.get_org_files(pub_status='public')"
   ]
  },
  {
   "cell_type": "code",
   "execution_count": null,
   "metadata": {},
   "outputs": [
    {
     "data": {
      "text/markdown": [
       "<h4 id=\"OrgStats.files_public\" class=\"doc_header\"><code>OrgStats.files_public</code><a href=\"\" class=\"source_link\" style=\"float:right\">[source]</a></h4>\n",
       "\n",
       "files for public repos"
      ],
      "text/plain": [
       "<IPython.core.display.Markdown object>"
      ]
     },
     "metadata": {},
     "output_type": "display_data"
    }
   ],
   "source": [
    "show_doc(OrgStats.files_public)"
   ]
  },
  {
   "cell_type": "code",
   "execution_count": null,
   "metadata": {},
   "outputs": [],
   "source": [
    "#export\n",
    "@patch_to(OrgStats, as_prop=True)\n",
    "@lru_cache()\n",
    "def files_private(self):\n",
    "    \"\"\"files for private repos\"\"\"\n",
    "    return self.get_org_files(pub_status='private')"
   ]
  },
  {
   "cell_type": "code",
   "execution_count": null,
   "metadata": {},
   "outputs": [
    {
     "data": {
      "text/markdown": [
       "<h4 id=\"OrgStats.files_private\" class=\"doc_header\"><code>OrgStats.files_private</code><a href=\"\" class=\"source_link\" style=\"float:right\">[source]</a></h4>\n",
       "\n",
       "files for private repos"
      ],
      "text/plain": [
       "<IPython.core.display.Markdown object>"
      ]
     },
     "metadata": {},
     "output_type": "display_data"
    }
   ],
   "source": [
    "show_doc(OrgStats.files_private)"
   ]
  },
  {
   "cell_type": "markdown",
   "metadata": {},
   "source": [
    "### Helper function"
   ]
  },
  {
   "cell_type": "code",
   "execution_count": null,
   "metadata": {},
   "outputs": [],
   "source": [
    "#export\n",
    "def get_ext(x): return Path(x).suffix"
   ]
  },
  {
   "cell_type": "code",
   "execution_count": null,
   "metadata": {},
   "outputs": [],
   "source": [
    "#export\n",
    "def _get_ext_freqs(files:Generator[github.ContentFile.ContentFile,None,None]) -> Dict[str,int]:\n",
    "    \"\"\"Returns frequencies of file extension in `files`\"\"\"\n",
    "    file_list = [file.name for file in files]\n",
    "    return itertoolz.frequencies(filter(lambda x: x!='',map(get_ext,file_list)))"
   ]
  },
  {
   "cell_type": "code",
   "execution_count": null,
   "metadata": {},
   "outputs": [],
   "source": [
    "#export\n",
    "@patch_to(OrgStats)\n",
    "def get_repo_file_ext_frequency(self, repo: Union[str, github.Repository.Repository]) -> Dict[str,int]:\n",
    "    \"\"\"returns frequencies of file extensions for `repo` \"\"\"\n",
    "    files = self.get_repo_files(repo)\n",
    "    return _get_ext_freqs(files)"
   ]
  },
  {
   "cell_type": "code",
   "execution_count": null,
   "metadata": {},
   "outputs": [
    {
     "data": {
      "text/markdown": [
       "<h4 id=\"OrgStats.get_repo_file_ext_frequency\" class=\"doc_header\"><code>OrgStats.get_repo_file_ext_frequency</code><a href=\"__main__.py#L2\" class=\"source_link\" style=\"float:right\">[source]</a></h4>\n",
       "\n",
       "> <code>OrgStats.get_repo_file_ext_frequency</code>(**`repo`**:`Union`\\[`str`, `Repository`\\])\n",
       "\n",
       "returns frequencies of file extensions for `repo` "
      ],
      "text/plain": [
       "<IPython.core.display.Markdown object>"
      ]
     },
     "metadata": {},
     "output_type": "display_data"
    }
   ],
   "source": [
    "show_doc(OrgStats.get_repo_file_ext_frequency)"
   ]
  },
  {
   "cell_type": "code",
   "execution_count": null,
   "metadata": {},
   "outputs": [
    {
     "data": {
      "text/plain": [
       "{'.md': 1, '.py': 1}"
      ]
     },
     "execution_count": null,
     "metadata": {},
     "output_type": "execute_result"
    }
   ],
   "source": [
    "test_org.get_repo_file_ext_frequency('repo2')"
   ]
  },
  {
   "cell_type": "code",
   "execution_count": null,
   "metadata": {},
   "outputs": [],
   "source": [
    "#export\n",
    "@patch_to(OrgStats)\n",
    "def get_org_file_ext_frequency(self, pub_status: Union[None, str] = None) ->Dict[str, Dict[str,int]]:\n",
    "    \"\"\"returns frequencies of file extensions for repos in `OrgStats` `org` \"\"\"\n",
    "    return {k: _get_ext_freqs(v) for k,v in self.get_org_files(pub_status).items()}"
   ]
  },
  {
   "cell_type": "code",
   "execution_count": null,
   "metadata": {},
   "outputs": [
    {
     "data": {
      "text/markdown": [
       "<h4 id=\"OrgStats.get_org_file_ext_frequency\" class=\"doc_header\"><code>OrgStats.get_org_file_ext_frequency</code><a href=\"__main__.py#L2\" class=\"source_link\" style=\"float:right\">[source]</a></h4>\n",
       "\n",
       "> <code>OrgStats.get_org_file_ext_frequency</code>(**`pub_status`**:`Union`\\[`NoneType`, `str`\\]=*`None`*)\n",
       "\n",
       "returns frequencies of file extensions for repos in [`OrgStats`](/gh_orgstats/stats.html#OrgStats) `org` "
      ],
      "text/plain": [
       "<IPython.core.display.Markdown object>"
      ]
     },
     "metadata": {},
     "output_type": "display_data"
    }
   ],
   "source": [
    "show_doc(OrgStats.get_org_file_ext_frequency)"
   ]
  },
  {
   "cell_type": "markdown",
   "metadata": {},
   "source": [
    "### Snapshot stats\n",
    "There are two flavours of stats accessible via GitHub ones which are 'snapshots' in time and ones which are cumulative over time. 'Snapshot' stats include 'forks' and 'stars'. Although these can go up and down overtime, we mainly care about their current numbers. "
   ]
  },
  {
   "cell_type": "code",
   "execution_count": null,
   "metadata": {},
   "outputs": [],
   "source": [
    "#export \n",
    "@patch_to(OrgStats)\n",
    "def get_org_snapshot_stats(self, repos: Iterable[github.Repository.Repository]) -> Dict[str,Dict[str,int]]:\n",
    "    \"\"\"Returns dictionary of star and fork counts for `repos`\"\"\"\n",
    "    repos_stats = {}\n",
    "    for repo in repos:\n",
    "        stats = {'stars': repo.get_stargazers().totalCount}\n",
    "        stats['forks'] = repo.get_forks().totalCount\n",
    "        repos_stats[repo.name] = stats\n",
    "    return repos_stats"
   ]
  },
  {
   "cell_type": "code",
   "execution_count": null,
   "metadata": {},
   "outputs": [
    {
     "data": {
      "text/markdown": [
       "<h4 id=\"OrgStats.get_org_snapshot_stats\" class=\"doc_header\"><code>OrgStats.get_org_snapshot_stats</code><a href=\"__main__.py#L2\" class=\"source_link\" style=\"float:right\">[source]</a></h4>\n",
       "\n",
       "> <code>OrgStats.get_org_snapshot_stats</code>(**`repos`**:`Iterable`\\[`Repository`\\])\n",
       "\n",
       "Returns dictionary of star and fork counts for `repos`"
      ],
      "text/plain": [
       "<IPython.core.display.Markdown object>"
      ]
     },
     "metadata": {},
     "output_type": "display_data"
    }
   ],
   "source": [
    "show_doc(OrgStats.get_org_snapshot_stats)"
   ]
  },
  {
   "cell_type": "markdown",
   "metadata": {},
   "source": [
    "You can also access `get_org_snapshot_stats` via `OrgStats` `snapshot_stats` property. "
   ]
  },
  {
   "cell_type": "code",
   "execution_count": null,
   "metadata": {},
   "outputs": [],
   "source": [
    "#export\n",
    "@patch_to(OrgStats, as_prop=True)\n",
    "@lru_cache(maxsize=256)\n",
    "def snapshot_stats(self) -> pd.DataFrame:\n",
    "    \"\"\"Returns a Pandas DataFrame of star and fork counts for public repos\"\"\"\n",
    "    return pd.DataFrame.from_dict(self.get_org_snapshot_stats(self.public_repos), orient='index')"
   ]
  },
  {
   "cell_type": "code",
   "execution_count": null,
   "metadata": {},
   "outputs": [
    {
     "data": {
      "text/markdown": [
       "<h4 id=\"OrgStats.snapshot_stats\" class=\"doc_header\"><code>OrgStats.snapshot_stats</code><a href=\"\" class=\"source_link\" style=\"float:right\">[source]</a></h4>\n",
       "\n",
       "Returns a Pandas DataFrame of star and fork counts for public repos"
      ],
      "text/plain": [
       "<IPython.core.display.Markdown object>"
      ]
     },
     "metadata": {},
     "output_type": "display_data"
    }
   ],
   "source": [
    "show_doc(OrgStats.snapshot_stats)"
   ]
  },
  {
   "cell_type": "code",
   "execution_count": null,
   "metadata": {},
   "outputs": [
    {
     "data": {
      "text/html": [
       "<div>\n",
       "<style scoped>\n",
       "    .dataframe tbody tr th:only-of-type {\n",
       "        vertical-align: middle;\n",
       "    }\n",
       "\n",
       "    .dataframe tbody tr th {\n",
       "        vertical-align: top;\n",
       "    }\n",
       "\n",
       "    .dataframe thead th {\n",
       "        text-align: right;\n",
       "    }\n",
       "</style>\n",
       "<table border=\"1\" class=\"dataframe\">\n",
       "  <thead>\n",
       "    <tr style=\"text-align: right;\">\n",
       "      <th></th>\n",
       "      <th>stars</th>\n",
       "      <th>forks</th>\n",
       "    </tr>\n",
       "  </thead>\n",
       "  <tbody>\n",
       "    <tr>\n",
       "      <th>repo1</th>\n",
       "      <td>1</td>\n",
       "      <td>0</td>\n",
       "    </tr>\n",
       "    <tr>\n",
       "      <th>repo2</th>\n",
       "      <td>0</td>\n",
       "      <td>0</td>\n",
       "    </tr>\n",
       "  </tbody>\n",
       "</table>\n",
       "</div>"
      ],
      "text/plain": [
       "       stars  forks\n",
       "repo1      1      0\n",
       "repo2      0      0"
      ]
     },
     "execution_count": null,
     "metadata": {},
     "output_type": "execute_result"
    }
   ],
   "source": [
    "test_org = OrgStats(GH_TOKEN, \"ghorgstatstestorg\")\n",
    "test_org.snapshot_stats"
   ]
  },
  {
   "cell_type": "markdown",
   "metadata": {},
   "source": [
    "### Long view stats\n",
    "These are the other flavour of GitHub stats, these are traffic stats which include visits to a repository on GitHub and clones of organization repositories. By default GitHub only provides access two recent information for these stats. This means if we want to be able to access longer term information for these stats we need to store and update this information on a regular basis ourselves. This is what the below do in combination with Github actions. "
   ]
  },
  {
   "cell_type": "markdown",
   "metadata": {},
   "source": [
    "### Traffic stats"
   ]
  },
  {
   "cell_type": "code",
   "execution_count": null,
   "metadata": {},
   "outputs": [],
   "source": [
    "#export \n",
    "@patch_to(OrgStats)\n",
    "def get_repo_views_traffic(self, repo: Union[str,github.Repository.Repository], save_dir:Union[str, pathlib.Path]='view_data', load=False) -> pd.DataFrame:\n",
    "    \"\"\"gets views traffic for `repo` and saves as csv in `save_dir`\n",
    "\n",
    "    Parameters\n",
    "    ----------\n",
    "    repo : Union[str,github.Repository.Repository]\n",
    "        repository from `org`\n",
    "    save_dir : Union[str, pathlib.Path], optional\n",
    "        directory where output CSV should be saved, by default 'view_data'\n",
    "    load : bool, optional\n",
    "        load data into a Pandas DataFrame, by default False\n",
    "\n",
    "    Returns\n",
    "    -------\n",
    "    pd.DataFrame\n",
    "        contains unique and total views for `repo` with dates\n",
    "    \"\"\"\n",
    "    if type(repo) == str:\n",
    "        repo = self.org.get_repo(repo)\n",
    "    traffic = repo.get_views_traffic()\n",
    "    traffic_dict = {\n",
    "        view.timestamp: {\n",
    "            \"total_views\": view.count,\n",
    "            \"unique_views\": view.uniques,\n",
    "        }\n",
    "        for view in traffic['views']\n",
    "    }\n",
    "\n",
    "    try:\n",
    "        old_traffic_data = pd.read_csv(f'{save_dir}/{repo.name}_views_traffic.csv', index_col=\"_date\", parse_dates=[\"_date\"]).to_dict(orient=\"index\")\n",
    "        updated_dict = {**old_traffic_data, **traffic_dict}\n",
    "        traffic_frame = pd.DataFrame.from_dict(data=updated_dict, orient=\"index\", columns=[\"total_views\", \"unique_views\"])\n",
    "    except:\n",
    "        traffic_frame = pd.DataFrame.from_dict(data=traffic_dict, orient=\"index\", columns=[\"total_views\", \"unique_views\"])\n",
    "    traffic_frame.index.name = \"_date\"\n",
    "    if not Path(save_dir).exists():\n",
    "        Path(save_dir).mkdir()\n",
    "    traffic_frame.to_csv(f'{save_dir}/{repo.name}_views_traffic.csv')\n",
    "    if load:\n",
    "        return traffic_frame"
   ]
  },
  {
   "cell_type": "code",
   "execution_count": null,
   "metadata": {},
   "outputs": [],
   "source": [
    "#hide\n",
    "test_org = OrgStats(GH_TOKEN, \"ghorgstatstestorg\")\n",
    "test_org.get_repo_views_traffic(test_org.repos[0], 'test_dir')\n",
    "assert Path('test_dir').exists() == True\n",
    "assert type(pd.read_csv('test_dir/repo1_views_traffic.csv')) == pd.core.frame.DataFrame\n",
    "assert len(pd.read_csv('test_dir/repo1_views_traffic.csv',index_col=\"_date\", parse_dates=[\"_date\"]).columns) ==2 \n",
    "Path('test_dir/repo1_views_traffic.csv').unlink()\n",
    "Path('test_dir').rmdir()"
   ]
  },
  {
   "cell_type": "code",
   "execution_count": null,
   "metadata": {},
   "outputs": [
    {
     "data": {
      "text/markdown": [
       "<h4 id=\"OrgStats.get_repo_views_traffic\" class=\"doc_header\"><code>OrgStats.get_repo_views_traffic</code><a href=\"__main__.py#L2\" class=\"source_link\" style=\"float:right\">[source]</a></h4>\n",
       "\n",
       "> <code>OrgStats.get_repo_views_traffic</code>(**`repo`**:`Union`\\[`str`, `Repository`\\], **`save_dir`**:`Union`\\[`str`, `Path`\\]=*`'view_data'`*, **`load`**=*`False`*)\n",
       "\n"
      ],
      "text/plain": [
       "<IPython.core.display.Markdown object>"
      ]
     },
     "metadata": {},
     "output_type": "display_data"
    }
   ],
   "source": [
    "show_doc(OrgStats.get_repo_views_traffic, doc_string=False)"
   ]
  },
  {
   "cell_type": "markdown",
   "metadata": {},
   "source": [
    "Gets views traffic for `repo` and saves as csv in `save_dir`. \n",
    "`repo` is an repository under the GitHub Organization.\n",
    "`save_dir` is the directory where output CSV should be saved, by default `view_data`\n",
    "load is an optional flag which loads data into a Pandas DataFrame, by default `False`"
   ]
  },
  {
   "cell_type": "code",
   "execution_count": null,
   "metadata": {},
   "outputs": [
    {
     "data": {
      "text/html": [
       "<div>\n",
       "<style scoped>\n",
       "    .dataframe tbody tr th:only-of-type {\n",
       "        vertical-align: middle;\n",
       "    }\n",
       "\n",
       "    .dataframe tbody tr th {\n",
       "        vertical-align: top;\n",
       "    }\n",
       "\n",
       "    .dataframe thead th {\n",
       "        text-align: right;\n",
       "    }\n",
       "</style>\n",
       "<table border=\"1\" class=\"dataframe\">\n",
       "  <thead>\n",
       "    <tr style=\"text-align: right;\">\n",
       "      <th></th>\n",
       "      <th>total_views</th>\n",
       "      <th>unique_views</th>\n",
       "    </tr>\n",
       "    <tr>\n",
       "      <th>_date</th>\n",
       "      <th></th>\n",
       "      <th></th>\n",
       "    </tr>\n",
       "  </thead>\n",
       "  <tbody>\n",
       "    <tr>\n",
       "      <th>2020-11-30</th>\n",
       "      <td>2</td>\n",
       "      <td>1</td>\n",
       "    </tr>\n",
       "    <tr>\n",
       "      <th>2020-12-01</th>\n",
       "      <td>1</td>\n",
       "      <td>1</td>\n",
       "    </tr>\n",
       "  </tbody>\n",
       "</table>\n",
       "</div>"
      ],
      "text/plain": [
       "            total_views  unique_views\n",
       "_date                                \n",
       "2020-11-30            2             1\n",
       "2020-12-01            1             1"
      ]
     },
     "execution_count": null,
     "metadata": {},
     "output_type": "execute_result"
    }
   ],
   "source": [
    "test_org = OrgStats(GH_TOKEN, \"ghorgstatstestorg\")\n",
    "test_org.get_repo_views_traffic(test_org.repos[0], 'test_dir',load=True).head(3)"
   ]
  },
  {
   "cell_type": "code",
   "execution_count": null,
   "metadata": {},
   "outputs": [],
   "source": [
    "#hide\n",
    "csvs = list(Path('test_dir').glob('*.csv'));list(map(Path.unlink,csvs));Path('test_dir').rmdir()"
   ]
  },
  {
   "cell_type": "code",
   "execution_count": null,
   "metadata": {},
   "outputs": [],
   "source": [
    "#export \n",
    "@patch_to(OrgStats)\n",
    "def get_org_views_traffic(self, public_only:bool=True, save_dir:Union[str,pathlib.Path]='view_data', \n",
    "repos:Optional[Iterable[github.Repository.Repository]]=None, load=False) -> Union[None, pd.DataFrame]:\n",
    "    \"\"\"Get view traffic for multiple repos from `Org`\n",
    "\n",
    "    Parameters\n",
    "    ----------\n",
    "    public_only : bool, optional\n",
    "        only get stats for public repos, by default True\n",
    "    save_dir : Union[str,pathlib.Path], optional\n",
    "        directory where csvs of stats should be saved, by default 'view_data'\n",
    "    repos : Optional[Iterable[github.Repository.Repository]], optional\n",
    "        to access stats for a specific set of repos, by default None\n",
    "    load : bool, optional\n",
    "        whether to load views data into a DataFrame, by default False\n",
    "\n",
    "    Returns\n",
    "    -------\n",
    "    Union[None, pd.DataFrame]\n",
    "    \"\"\"\n",
    "    if public_only and not repos:\n",
    "        repos = self.public_repos\n",
    "    dfs = []\n",
    "    for repo in repos:\n",
    "        df = self.get_repo_views_traffic(repo, save_dir,load)\n",
    "        dfs.append(df)\n",
    "    if load:\n",
    "        org_traffic = {}\n",
    "        for repo, df in zip(repos,dfs):\n",
    "            repo_views_traffic_dict = df.to_dict()\n",
    "            repo_name = repo.name\n",
    "            org_traffic[repo_name] = repo_views_traffic_dict\n",
    "        return pd.DataFrame.from_dict(\n",
    "            {\n",
    "                (i, j): org_traffic[i][j]\n",
    "                for i in org_traffic\n",
    "                for j in org_traffic[i].keys()\n",
    "            }\n",
    "        )"
   ]
  },
  {
   "cell_type": "code",
   "execution_count": null,
   "metadata": {},
   "outputs": [
    {
     "data": {
      "text/markdown": [
       "<h4 id=\"OrgStats.get_org_views_traffic\" class=\"doc_header\"><code>OrgStats.get_org_views_traffic</code><a href=\"__main__.py#L2\" class=\"source_link\" style=\"float:right\">[source]</a></h4>\n",
       "\n",
       "> <code>OrgStats.get_org_views_traffic</code>(**`public_only`**:`bool`=*`True`*, **`save_dir`**:`Union`\\[`str`, `Path`\\]=*`'view_data'`*, **`repos`**:`Optional`\\[`Iterable`\\[`Repository`\\]\\]=*`None`*, **`load`**=*`False`*)\n",
       "\n",
       "Get view traffic for multiple repos from `Org`\n",
       "\n",
       "Parameters\n",
       "----------\n",
       "public_only : bool, optional\n",
       "    only get stats for public repos, by default True\n",
       "save_dir : Union[str,pathlib.Path], optional\n",
       "    directory where csvs of stats should be saved, by default 'view_data'\n",
       "repos : Optional[Iterable[github.Repository.Repository]], optional\n",
       "    to access stats for a specific set of repos, by default None\n",
       "load : bool, optional\n",
       "    whether to load views data into a DataFrame, by default False\n",
       "\n",
       "Returns\n",
       "-------\n",
       "Union[None, pd.DataFrame]"
      ],
      "text/plain": [
       "<IPython.core.display.Markdown object>"
      ]
     },
     "metadata": {},
     "output_type": "display_data"
    }
   ],
   "source": [
    "show_doc(OrgStats.get_org_views_traffic)"
   ]
  },
  {
   "cell_type": "code",
   "execution_count": null,
   "metadata": {},
   "outputs": [
    {
     "data": {
      "text/html": [
       "<div>\n",
       "<style scoped>\n",
       "    .dataframe tbody tr th:only-of-type {\n",
       "        vertical-align: middle;\n",
       "    }\n",
       "\n",
       "    .dataframe tbody tr th {\n",
       "        vertical-align: top;\n",
       "    }\n",
       "\n",
       "    .dataframe thead tr th {\n",
       "        text-align: left;\n",
       "    }\n",
       "</style>\n",
       "<table border=\"1\" class=\"dataframe\">\n",
       "  <thead>\n",
       "    <tr>\n",
       "      <th></th>\n",
       "      <th colspan=\"2\" halign=\"left\">repo1</th>\n",
       "      <th colspan=\"2\" halign=\"left\">repo2</th>\n",
       "    </tr>\n",
       "    <tr>\n",
       "      <th></th>\n",
       "      <th>total_views</th>\n",
       "      <th>unique_views</th>\n",
       "      <th>total_views</th>\n",
       "      <th>unique_views</th>\n",
       "    </tr>\n",
       "  </thead>\n",
       "  <tbody>\n",
       "    <tr>\n",
       "      <th>2020-11-30</th>\n",
       "      <td>2</td>\n",
       "      <td>1</td>\n",
       "      <td>8.0</td>\n",
       "      <td>1.0</td>\n",
       "    </tr>\n",
       "    <tr>\n",
       "      <th>2020-12-01</th>\n",
       "      <td>1</td>\n",
       "      <td>1</td>\n",
       "      <td>NaN</td>\n",
       "      <td>NaN</td>\n",
       "    </tr>\n",
       "  </tbody>\n",
       "</table>\n",
       "</div>"
      ],
      "text/plain": [
       "                 repo1                    repo2             \n",
       "           total_views unique_views total_views unique_views\n",
       "2020-11-30           2            1         8.0          1.0\n",
       "2020-12-01           1            1         NaN          NaN"
      ]
     },
     "execution_count": null,
     "metadata": {},
     "output_type": "execute_result"
    }
   ],
   "source": [
    "test_org = OrgStats(GH_TOKEN, \"ghorgstatstestorg\")\n",
    "test_org.get_org_views_traffic(load=True).head(3)"
   ]
  },
  {
   "cell_type": "code",
   "execution_count": null,
   "metadata": {},
   "outputs": [],
   "source": [
    "assert len(test_org.get_org_views_traffic(load=True).columns)/2 == len(test_org.public_repos)\n",
    "assert len(test_org.get_org_views_traffic(repos=test_org.repos, load=True).columns)/2 == len(test_org.repos)"
   ]
  },
  {
   "cell_type": "markdown",
   "metadata": {},
   "source": [
    "### Clones"
   ]
  },
  {
   "cell_type": "code",
   "execution_count": null,
   "metadata": {},
   "outputs": [],
   "source": [
    "#export \n",
    "@patch_to(OrgStats)\n",
    "def get_repo_clones_traffic(self, repo: github.Repository.Repository, \n",
    "                            save_dir:Union[str, pathlib.Path]='clones_data', load=False):\n",
    "    \"\"\"gets clones traffic for `repo` and saves as csv in `save_dir`\n",
    "\n",
    "    Parameters\n",
    "    ----------\n",
    "    repo : Union[str,github.Repository.Repository]\n",
    "        repository from `org`\n",
    "    save_dir : Union[str, pathlib.Path], optional\n",
    "        directory where output CSV should be saved, by default 'view_data'\n",
    "    load : bool, optional\n",
    "        load data into a Pandas DataFrame, by default False\n",
    "\n",
    "    Returns\n",
    "    -------\n",
    "    pd.DataFrame\n",
    "        contains unique and total clones for `repo` with dates\n",
    "    \"\"\"\n",
    "    if type(repo) == str:\n",
    "        repo = self.org.get_repo(repo)\n",
    "    clones = repo.get_clones_traffic()\n",
    "    clones_dict = {\n",
    "        view.timestamp: {\n",
    "            \"total_clones\": view.count,\n",
    "            \"unique_clones\": view.uniques,\n",
    "        }\n",
    "        for view in clones['clones']\n",
    "    }\n",
    "\n",
    "    try:\n",
    "        old_clones_data = pd.read_csv(f'clones_data/{repo.name}_clones_traffic.csv', index_col=\"_date\", parse_dates=[\"_date\"]).to_dict(orient=\"index\")\n",
    "        updated_clones_dict = {**old_clones_data, **clones_dict}\n",
    "        clones_frame = pd.DataFrame.from_dict(data=updated_clones_dict, orient=\"index\", columns=[\"total_clones\", \"unique_clones\"])\n",
    "    except:\n",
    "        clones_frame = pd.DataFrame.from_dict(data=clones_dict, orient=\"index\", columns=[\"total_clones\", \"unique_clones\"])\n",
    "    clones_frame.index.name = \"_date\"\n",
    "    if not Path(save_dir).exists():\n",
    "        Path(save_dir).mkdir()\n",
    "    clones_frame.to_csv(f'{save_dir}/{repo.name}_clones_traffic.csv')\n",
    "    if load:\n",
    "        return clones_frame"
   ]
  },
  {
   "cell_type": "code",
   "execution_count": null,
   "metadata": {},
   "outputs": [
    {
     "data": {
      "text/markdown": [
       "<h4 id=\"OrgStats.get_repo_clones_traffic\" class=\"doc_header\"><code>OrgStats.get_repo_clones_traffic</code><a href=\"__main__.py#L2\" class=\"source_link\" style=\"float:right\">[source]</a></h4>\n",
       "\n",
       "> <code>OrgStats.get_repo_clones_traffic</code>(**`repo`**:`Repository`, **`save_dir`**:`Union`\\[`str`, `Path`\\]=*`'clones_data'`*, **`load`**=*`False`*)\n",
       "\n",
       "gets clones traffic for `repo` and saves as csv in `save_dir`\n",
       "\n",
       "Parameters\n",
       "----------\n",
       "repo : Union[str,github.Repository.Repository]\n",
       "    repository from `org`\n",
       "save_dir : Union[str, pathlib.Path], optional\n",
       "    directory where output CSV should be saved, by default 'view_data'\n",
       "load : bool, optional\n",
       "    load data into a Pandas DataFrame, by default False\n",
       "\n",
       "Returns\n",
       "-------\n",
       "pd.DataFrame\n",
       "    contains unique and total clones for `repo` with dates"
      ],
      "text/plain": [
       "<IPython.core.display.Markdown object>"
      ]
     },
     "metadata": {},
     "output_type": "display_data"
    }
   ],
   "source": [
    "show_doc(OrgStats.get_repo_clones_traffic)"
   ]
  },
  {
   "cell_type": "code",
   "execution_count": null,
   "metadata": {},
   "outputs": [
    {
     "data": {
      "text/html": [
       "<div>\n",
       "<style scoped>\n",
       "    .dataframe tbody tr th:only-of-type {\n",
       "        vertical-align: middle;\n",
       "    }\n",
       "\n",
       "    .dataframe tbody tr th {\n",
       "        vertical-align: top;\n",
       "    }\n",
       "\n",
       "    .dataframe thead th {\n",
       "        text-align: right;\n",
       "    }\n",
       "</style>\n",
       "<table border=\"1\" class=\"dataframe\">\n",
       "  <thead>\n",
       "    <tr style=\"text-align: right;\">\n",
       "      <th></th>\n",
       "      <th>total_clones</th>\n",
       "      <th>unique_clones</th>\n",
       "    </tr>\n",
       "    <tr>\n",
       "      <th>_date</th>\n",
       "      <th></th>\n",
       "      <th></th>\n",
       "    </tr>\n",
       "  </thead>\n",
       "  <tbody>\n",
       "  </tbody>\n",
       "</table>\n",
       "</div>"
      ],
      "text/plain": [
       "Empty DataFrame\n",
       "Columns: [total_clones, unique_clones]\n",
       "Index: []"
      ]
     },
     "execution_count": null,
     "metadata": {},
     "output_type": "execute_result"
    }
   ],
   "source": [
    "test_org = OrgStats(GH_TOKEN, \"ghorgstatstestorg\")\n",
    "test_org.get_repo_clones_traffic('repo1',save_dir='test_dir', load=True)"
   ]
  },
  {
   "cell_type": "code",
   "execution_count": null,
   "metadata": {},
   "outputs": [],
   "source": [
    "assert len(test_org.get_repo_clones_traffic(test_org.public_repos[1], load=True).columns) == 2"
   ]
  },
  {
   "cell_type": "code",
   "execution_count": null,
   "metadata": {},
   "outputs": [],
   "source": [
    "#hide\n",
    "csvs = list(Path('test_dir').glob('*.csv'));list(map(Path.unlink,csvs));Path('test_dir').rmdir()"
   ]
  },
  {
   "cell_type": "code",
   "execution_count": null,
   "metadata": {},
   "outputs": [],
   "source": [
    "#export \n",
    "@patch_to(OrgStats)\n",
    "def get_org_clones_traffic(self, public_only:bool = True, repos: Optional[Iterable[github.Repository.Repository]] = None, \n",
    "                           save_dir:Union[str,pathlib.Path]='clones_data', load=False) -> Union[None,pd.DataFrame]:\n",
    "    \"\"\"get clone traffic for multiple repos from `Org`\n",
    "\n",
    "    Parameters\n",
    "    ----------\n",
    "    public_only : bool, optional\n",
    "        only get stats for public repos, by default True\n",
    "    save_dir : Union[str,pathlib.Path], optional\n",
    "        directory where csvs of stats should be saved, by default 'view_data'\n",
    "    repos : Optional[Iterable[github.Repository.Repository]], optional\n",
    "        to access stats for a specific set of repos, by default None\n",
    "    load : bool, optional\n",
    "        whether to load views data into a DataFrame, by default False\n",
    "\n",
    "    Returns\n",
    "    -------\n",
    "    Union[None, pd.DataFrame]\n",
    "    \"\"\"\n",
    "    if public_only and not repos:\n",
    "            repos = self.public_repos\n",
    "    dfs = []\n",
    "    for repo in repos:\n",
    "        df = self.get_repo_clones_traffic(repo, save_dir,load)\n",
    "        dfs.append(df)\n",
    "    if load:\n",
    "        clones_traffic = {}\n",
    "        for repo, df in zip(repos,dfs):\n",
    "            repo_clones_traffic_dict = df.to_dict()\n",
    "            repo_name = repo.name\n",
    "            clones_traffic[repo_name] = repo_clones_traffic_dict\n",
    "        return pd.DataFrame.from_dict(\n",
    "            {\n",
    "                (i, j): clones_traffic[i][j]\n",
    "                for i in clones_traffic\n",
    "                for j in clones_traffic[i].keys()\n",
    "            }\n",
    "        )"
   ]
  },
  {
   "cell_type": "code",
   "execution_count": null,
   "metadata": {},
   "outputs": [
    {
     "data": {
      "text/markdown": [
       "<h4 id=\"OrgStats.get_org_clones_traffic\" class=\"doc_header\"><code>OrgStats.get_org_clones_traffic</code><a href=\"__main__.py#L2\" class=\"source_link\" style=\"float:right\">[source]</a></h4>\n",
       "\n",
       "> <code>OrgStats.get_org_clones_traffic</code>(**`public_only`**:`bool`=*`True`*, **`repos`**:`Optional`\\[`Iterable`\\[`Repository`\\]\\]=*`None`*, **`save_dir`**:`Union`\\[`str`, `Path`\\]=*`'clones_data'`*, **`load`**=*`False`*)\n",
       "\n",
       "get clone traffic for multiple repos from `Org`\n",
       "\n",
       "Parameters\n",
       "----------\n",
       "public_only : bool, optional\n",
       "    only get stats for public repos, by default True\n",
       "save_dir : Union[str,pathlib.Path], optional\n",
       "    directory where csvs of stats should be saved, by default 'view_data'\n",
       "repos : Optional[Iterable[github.Repository.Repository]], optional\n",
       "    to access stats for a specific set of repos, by default None\n",
       "load : bool, optional\n",
       "    whether to load views data into a DataFrame, by default False\n",
       "\n",
       "Returns\n",
       "-------\n",
       "Union[None, pd.DataFrame]"
      ],
      "text/plain": [
       "<IPython.core.display.Markdown object>"
      ]
     },
     "metadata": {},
     "output_type": "display_data"
    }
   ],
   "source": [
    "show_doc(OrgStats.get_org_clones_traffic)"
   ]
  },
  {
   "cell_type": "code",
   "execution_count": null,
   "metadata": {},
   "outputs": [],
   "source": [
    "test_org = OrgStats(GH_TOKEN, \"ghorgstatstestorg\")\n",
    "assert type(test_org.get_org_clones_traffic(repos=test_org.repos, save_dir='test_dir',load=True)) == pd.core.frame.DataFrame\n",
    "assert (len(test_org.get_org_clones_traffic(save_dir='test_dir',load=True).columns) /2)  == test_org.public_repo_count "
   ]
  },
  {
   "cell_type": "code",
   "execution_count": null,
   "metadata": {},
   "outputs": [],
   "source": [
    "#hide\n",
    "test_org = OrgStats(GH_TOKEN, \"ghorgstatstestorg\")\n",
    "test_org.get_org_clones_traffic(save_dir='test_dir')\n",
    "assert Path('test_dir').exists() == True\n",
    "assert type(pd.read_csv('test_dir/repo1_clones_traffic.csv')) == pd.core.frame.DataFrame\n",
    "assert len(pd.read_csv('test_dir/repo1_clones_traffic.csv',index_col=\"_date\", parse_dates=[\"_date\"]).columns) ==2 \n",
    "csvs = list(Path('test_dir').glob('*.csv'));list(map(Path.unlink,csvs));Path('test_dir').rmdir()"
   ]
  },
  {
   "cell_type": "code",
   "execution_count": null,
   "metadata": {},
   "outputs": [
    {
     "name": "stdout",
     "output_type": "stream",
     "text": [
      "Converted 01_stats.ipynb.\n",
      "Converted index.ipynb.\n"
     ]
    }
   ],
   "source": [
    "from nbdev.export import notebook2script; notebook2script()"
   ]
  }
 ],
 "metadata": {
  "kernelspec": {
   "display_name": "ghreport",
   "language": "python",
   "name": "ghreport"
  }
 },
 "nbformat": 4,
 "nbformat_minor": 4
}
