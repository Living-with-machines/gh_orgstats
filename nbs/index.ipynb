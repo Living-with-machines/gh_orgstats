{
 "cells": [
  {
   "cell_type": "markdown",
   "metadata": {},
   "source": [
    "# Github OrgStats"
   ]
  },
  {
   "cell_type": "markdown",
   "metadata": {},
   "source": [
    "![CI](https://github.com/Living-with-machines/gh_orgstats/workflows/CI/badge.svg)"
   ]
  },
  {
   "cell_type": "markdown",
   "metadata": {},
   "source": [
    "`gh_orgstats` is intended to provide some easy ways of getting stats for a GitHub org. `gh_orgstats` does this by wrapping some functions around [PyGithub](https://github.com/PyGithub/PyGithub). This code is mainly intended to help generate reports as part of a GitHub actions pipeline to update stats for a funder. \\ #TODO add link to lwm report"
   ]
  },
  {
   "cell_type": "markdown",
   "metadata": {},
   "source": [
    "To use `PyGithub` we need to authenticate with GitHub this is done via a token. This token is used to authenticate access and requires at least scope for public repos. See https://github.com/settings/tokens to register a token. "
   ]
  },
  {
   "cell_type": "code",
   "execution_count": null,
   "metadata": {},
   "outputs": [],
   "source": [
    "from dotenv import load_dotenv\n",
    "import os"
   ]
  },
  {
   "cell_type": "markdown",
   "metadata": {},
   "source": [
    "In this case we use `dotenv` to load the token from a `.env` files. "
   ]
  },
  {
   "cell_type": "code",
   "execution_count": null,
   "metadata": {},
   "outputs": [],
   "source": [
    "load_dotenv()\n",
    "GH_TOKEN = os.getenv(\"GH_TOKEN\")"
   ]
  },
  {
   "cell_type": "markdown",
   "metadata": {},
   "source": [
    "Currently all functionality is contained within the `stats` module. "
   ]
  },
  {
   "cell_type": "code",
   "execution_count": null,
   "metadata": {},
   "outputs": [],
   "source": [
    "from gh_orgstats.stats import *"
   ]
  },
  {
   "cell_type": "markdown",
   "metadata": {},
   "source": [
    "The `OrgStats` class is used to get stats for a GitHub organization. To create an instance of this class we need to pass a GitHub token to authenticate and the name of the Organization you want stats for. "
   ]
  },
  {
   "cell_type": "code",
   "execution_count": null,
   "metadata": {},
   "outputs": [
    {
     "data": {
      "text/plain": [
       "OrgStats: ghorgstatstestorg "
      ]
     },
     "execution_count": null,
     "metadata": {},
     "output_type": "execute_result"
    }
   ],
   "source": [
    "test_org = OrgStats(GH_TOKEN, \"ghorgstatstestorg\")\n",
    "test_org"
   ]
  },
  {
   "cell_type": "markdown",
   "metadata": {},
   "source": [
    "### Organization repositories \n",
    "As a start we can grab the repositories for an organization via the `repos` attribute of our OrgStats instance"
   ]
  },
  {
   "cell_type": "code",
   "execution_count": null,
   "metadata": {},
   "outputs": [
    {
     "data": {
      "text/plain": [
       "[Repository(full_name=\"ghorgstatstestorg/repo1\"),\n",
       " Repository(full_name=\"ghorgstatstestorg/repo2\"),\n",
       " Repository(full_name=\"ghorgstatstestorg/private_repo_1\")]"
      ]
     },
     "execution_count": null,
     "metadata": {},
     "output_type": "execute_result"
    }
   ],
   "source": [
    "test_org.repos"
   ]
  },
  {
   "cell_type": "markdown",
   "metadata": {},
   "source": [
    "We can also get a sense of what is in the repository by looking at the file extensions for each repository. "
   ]
  },
  {
   "cell_type": "markdown",
   "metadata": {},
   "source": [
    "### Repository file types"
   ]
  },
  {
   "cell_type": "code",
   "execution_count": null,
   "metadata": {},
   "outputs": [
    {
     "data": {
      "text/plain": [
       "{'repo1': {'.md': 1},\n",
       " 'repo2': {'.md': 1, '.py': 1},\n",
       " 'private_repo_1': {'.md': 1}}"
      ]
     },
     "execution_count": null,
     "metadata": {},
     "output_type": "execute_result"
    }
   ],
   "source": [
    "test_org.get_org_file_ext_frequency()"
   ]
  },
  {
   "cell_type": "markdown",
   "metadata": {},
   "source": [
    "#### Filtering by publication status \n",
    "\n",
    "We can also filter this by publication status"
   ]
  },
  {
   "cell_type": "code",
   "execution_count": null,
   "metadata": {},
   "outputs": [
    {
     "data": {
      "text/plain": [
       "{'repo1': {'.md': 1}, 'repo2': {'.md': 1, '.py': 1}}"
      ]
     },
     "execution_count": null,
     "metadata": {},
     "output_type": "execute_result"
    }
   ],
   "source": [
    "test_org.get_org_file_ext_frequency(pub_status='public')"
   ]
  },
  {
   "cell_type": "markdown",
   "metadata": {},
   "source": [
    "### Snapshot stats\n",
    "Snapshot stats are captured based on the current view and aren't updated. These include forks and clones"
   ]
  },
  {
   "cell_type": "code",
   "execution_count": null,
   "metadata": {},
   "outputs": [
    {
     "data": {
      "text/plain": [
       "{'stars': {'repo1': 1, 'repo2': 0}, 'forks': {'repo1': 0, 'repo2': 0}}"
      ]
     },
     "execution_count": null,
     "metadata": {},
     "output_type": "execute_result"
    }
   ],
   "source": [
    "test_org.snapshot_stats.to_dict()"
   ]
  },
  {
   "cell_type": "markdown",
   "metadata": {},
   "source": [
    "### Traffic stats\n",
    "We can also get a longer view by using traffic stats for views and clones"
   ]
  },
  {
   "cell_type": "code",
   "execution_count": null,
   "metadata": {},
   "outputs": [],
   "source": [
    "test_org.get_org_views_traffic(save_dir='readme_dir')"
   ]
  },
  {
   "cell_type": "markdown",
   "metadata": {},
   "source": [
    "`get_org_views_traffic` will grab data via the GitHub api and update a CSV for each repository under the organization (by default only public) with views counts. This is largely intended to be used to semi-regularly update these stats by running this code as part of a GitHub Action or cron job.\n",
    "\n",
    "\n",
    "If you want to load a DataFrame of traffic you can pass `load=True`"
   ]
  },
  {
   "cell_type": "code",
   "execution_count": null,
   "metadata": {},
   "outputs": [
    {
     "data": {
      "text/plain": [
       "{('repo1', 'total_views'): {Timestamp('2020-11-30 00:00:00'): 2,\n",
       "  Timestamp('2020-12-01 00:00:00'): 1},\n",
       " ('repo1', 'unique_views'): {Timestamp('2020-11-30 00:00:00'): 1,\n",
       "  Timestamp('2020-12-01 00:00:00'): 1},\n",
       " ('repo2', 'total_views'): {Timestamp('2020-11-30 00:00:00'): 8.0,\n",
       "  Timestamp('2020-12-01 00:00:00'): nan},\n",
       " ('repo2', 'unique_views'): {Timestamp('2020-11-30 00:00:00'): 1.0,\n",
       "  Timestamp('2020-12-01 00:00:00'): nan}}"
      ]
     },
     "execution_count": null,
     "metadata": {},
     "output_type": "execute_result"
    }
   ],
   "source": [
    "test_org.get_org_views_traffic(save_dir='readme_dir', load=True).to_dict()"
   ]
  },
  {
   "cell_type": "markdown",
   "metadata": {},
   "source": [
    "Similarly the same can be done for clones"
   ]
  },
  {
   "cell_type": "code",
   "execution_count": null,
   "metadata": {},
   "outputs": [],
   "source": [
    "#hide\n",
    "!rm -r readme_dir"
   ]
  }
 ],
 "metadata": {
  "kernelspec": {
   "display_name": "ghreport",
   "language": "python",
   "name": "ghreport"
  }
 },
 "nbformat": 4,
 "nbformat_minor": 4
}
